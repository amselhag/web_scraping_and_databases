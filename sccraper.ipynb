{
 "cells": [
  {
   "cell_type": "code",
   "execution_count": 1,
   "metadata": {},
   "outputs": [],
   "source": [
    "# Dependencies\n",
    "from bs4 import BeautifulSoup\n",
    "import requests\n",
    "from splinter import Browser\n",
    "import time\n",
    "import pandas as pd"
   ]
  },
  {
   "cell_type": "code",
   "execution_count": 2,
   "metadata": {},
   "outputs": [],
   "source": [
    "url='https://mars.nasa.gov/news'"
   ]
  },
  {
   "cell_type": "code",
   "execution_count": 3,
   "metadata": {},
   "outputs": [],
   "source": [
    "executable_path = {'executable_path': 'chromedriver.exe'}\n",
    "browser = Browser('chrome', **executable_path, headless=False)"
   ]
  },
  {
   "cell_type": "code",
   "execution_count": 4,
   "metadata": {},
   "outputs": [],
   "source": [
    "browser.visit(url)"
   ]
  },
  {
   "cell_type": "code",
   "execution_count": 5,
   "metadata": {},
   "outputs": [],
   "source": [
    "html1 = browser.html\n",
    "soup1 = BeautifulSoup(html1, 'html.parser')"
   ]
  },
  {
   "cell_type": "code",
   "execution_count": 6,
   "metadata": {},
   "outputs": [],
   "source": [
    "results = soup1.find_all('div', class_='list_text')"
   ]
  },
  {
   "cell_type": "code",
   "execution_count": 7,
   "metadata": {},
   "outputs": [
    {
     "name": "stdout",
     "output_type": "stream",
     "text": [
      "360 Video: Curiosity Rover Departs Vera Rubin Ridge\n",
      "This panorama from the Mast Camera (Mastcam) on NASA's Curiosity Mars rover was taken on Dec. 19 (Sol 2265). The rover's last drill location on Vera Rubin Ridge is visible, as well as the clay region it will spend the next year exploring.\n",
      "---------------------------\n",
      "Beyond Mars, the Mini MarCO Spacecraft Fall Silent\n",
      "The first CubeSat mission to deep space may have reached their limit, but they could inspire future NASA missions.\n",
      "---------------------------\n",
      "InSight's Seismometer Now Has a Cozy Shelter on Mars\n",
      "A domed shield has been set over one of InSight's primary science instruments, protecting it from Mars' wind and temperature changes.\n",
      "---------------------------\n",
      "\"Mars Buggy\" Curiosity Measures a Mountain's Gravity\n",
      "Smartphone-like sensors on the NASA rover were used to calculate the density of Mount Sharp, offering new clues to its formation.\n",
      "---------------------------\n",
      "Curiosity Says Farewell to Mars' Vera Rubin Ridge\n",
      "The Mars rover is moving on and has taken its last selfie on the ridge it's explored for more than a year.\n",
      "---------------------------\n",
      "Rover Team Beaming New Commands to Opportunity on Mars\n",
      "Engineers at JPL have begun transmitting a new set of commands to Opportunity in an attempt to compel the Mars rover to contact Earth.\n",
      "---------------------------\n",
      "NASA's Opportunity Rover Logs 15 Years on Mars\n",
      "The rover landed in a region of the Red Planet called Meridiani Planum 16 years ago today, on Jan. 24, 2004.\n",
      "---------------------------\n",
      "NASA's InSight Places First Instrument on Mars\n",
      "In deploying its first instrument onto the surface of Mars, the lander completes a major mission milestone.\n",
      "---------------------------\n",
      "InSight Engineers Have Made a Martian Rock Garden\n",
      "Reconstructing Mars here on Earth lets them practice setting down the lander's science instruments.\n",
      "---------------------------\n",
      "Mars InSight Lander Seen in First Images from Space \n",
      "Look closely, and you can make out the lander's solar panels.\n",
      "---------------------------\n",
      "NASA's InSight Takes Its First Selfie\n",
      "Two new image mosaics detail the lander's deck and \"workspace\" — the surface where it will eventually set down its science instruments.\n",
      "---------------------------\n",
      "NASA InSight Lander 'Hears' Martian Winds \n",
      "Vibrations picked up by two spacecraft instruments have provided the first sounds of Martian wind.\n",
      "---------------------------\n",
      "NASA's Mars InSight Flexes Its Arm\n",
      "Now unstowed, the spacecraft's robotic arm will point a camera located on its elbow and take images of the surroundings.\n",
      "---------------------------\n",
      "Mars New Home 'a Large Sandbox'\n",
      "With InSight safely on the surface of Mars, the mission team is busy learning more about the spacecraft's landing site.\n",
      "---------------------------\n",
      "NASA Hears MarCO CubeSats Loud and Clear from Mars \n",
      "A pair of tiny, experimental spacecraft fulfilled their mission yesterday, relaying back near-real-time data during InSight's landing.\n",
      "---------------------------\n",
      "InSight Is Catching Rays on Mars\n",
      "The lander has sent data indicating its solar panels are open and receiving sunlight to power its surface operations.\n",
      "---------------------------\n",
      "NASA InSight Lander Arrives on Martian Surface \n",
      "The touchdown marks the eighth time NASA has successfully landed a spacecraft on Mars.\n",
      "---------------------------\n",
      "Landing Day for InSight\n",
      "NASA's InSight spacecraft is on target for Mars landing at around noon PST today.\n",
      "---------------------------\n",
      "NASA InSight Landing on Mars: Milestones\n",
      "On Nov. 26, NASA's InSight spacecraft will blaze through the Martian atmosphere and set a lander gently on the surface in less time than it takes to cook a hard-boiled egg.\n",
      "---------------------------\n",
      "NASA InSight Team on Course for Mars Touchdown\n",
      "NASA's Mars InSight spacecraft is on track for a soft touchdown on the surface of the Red Planet on Nov. 26.\n",
      "---------------------------\n",
      "What Two Planetary Siblings Can Teach Us About Life\n",
      "In studying Mars, NASA's InSight will reveal what makes one planet more or less suitable for life than another.\n",
      "---------------------------\n",
      "NASA Announces Landing Site for Mars 2020 Rover\n",
      "After a five-year search, NASA has chosen Jezero Crater as the landing site for its upcoming Mars 2020 rover mission.\n",
      "---------------------------\n",
      "NASA to Host Media Call on Next Mars Landing Site\n",
      "NASA will host a media teleconference at 9 a.m. PST (noon EST) Monday, Nov. 19, to provide details about the Mars 2020 rover’s landing site on the Red Planet.\n",
      "---------------------------\n",
      "How NASA Will Know When InSight Touches Down\n",
      "On Nov. 26, engineers will look for a combination of signals to determine whether the next spacecraft to Mars lands safely.\n",
      "---------------------------\n",
      "NASA Brings Mars Landing to Viewers Everywhere\n",
      "NASA's InSight lander is scheduled to touch down on the Red Planet at approximately noon PST  on Nov. 26, with a new suite of instruments to probe below the Martian surface.\n",
      "---------------------------\n",
      "Curiosity on the Move Again\n",
      "NASA's Mars Curiosity rover drove about 197 feet over the weekend to a site called Lake Orcadie, pushing its total odometry to over 12 miles.\n",
      "---------------------------\n",
      "The Mars InSight Landing Site Is Just Plain Perfect\n",
      "If the InSight landing zone were ice cream, it would be vanilla.\n",
      "---------------------------\n",
      "Five Things to Know About InSight's Mars Landing\n",
      "NASA engineers will be holding their breath when their spacecraft heads into Mars' atmosphere on Nov. 26.\n",
      "---------------------------\n",
      "NASA Launches a New Podcast to Mars\n",
      "NASA's new eight-episode series 'On a Mission' follows the InSight spacecraft on its journey to Mars and details the extraordinary challenges of landing on the Red Planet.\n",
      "---------------------------\n",
      "Update on Opportunity Rover Recovery Efforts\n",
      "After a review of the progress of the listening campaign, NASA will continue its current strategy for attempting to make contact with the Opportunity rover for the foreseeable future.\n",
      "---------------------------\n",
      "Third ASPIRE Test Confirms Mars 2020 Parachute a Go\n",
      "The supersonic parachute that will handle the heaviest payload yet to the Red Planet – Mars 2020 rover – passes its final sounding rocket test with flying colors.\n",
      "---------------------------\n",
      "NASA to Host Briefing on November Mars InSight Landing\n",
      "A briefing on NASA's upcoming InSight Mars landing will air on Wed. Oct. 31 at 1:30 p.m. EDT (10:30 a.m. PDT) on NASA TV, the agency's website and NASA InSight Facebook Page.\n",
      "---------------------------\n",
      "NASA's InSight Will Study Mars While Standing Still\n",
      "The lander's unique science can teach us how planets are born.\n",
      "---------------------------\n",
      "NASA's First Image of Mars from a CubeSat\n",
      "The image was produced by one of the twin briefcase-sized MarCO spacecraft, the first CubeSats to fly to deep space.\n",
      "---------------------------\n",
      "The 'Claw Game' on Mars: NASA InSight Plays to Win\n",
      "NASA's InSight lander will be the first mission to use a robotic arm to grasp instruments from the spacecraft and place them on the surface of another planet. \n",
      "---------------------------\n",
      "Scientists to Debate Landing Site for Next Mars Rover\n",
      "Hundreds of scientists and Mars-exploration enthusiasts gather this week to present, discuss and deliberate the future landing site for NASA's next Red Planet. \n",
      "---------------------------\n",
      "Mars Virtual Reality Software Wins NASA Award\n",
      "A mixed-reality software that allows scientists and engineers to virtually walk on Mars has received NASA's 2018 Software of the Year Award.\n",
      "---------------------------\n",
      "Painting Cars for Mars\n",
      "What does NASA do to get a rover ready for Mars? JPL's paint shop does a thousand different paint jobs a year. And while every piece of spacecraft that comes through the shop is important, one headed for the Red Planet adds a little extra oomph.\n",
      "---------------------------\n",
      "Opportunity Emerges in a Dusty Picture\n",
      "NASA still hasn't heard from the Opportunity rover, but at least the agency can see it again.\n",
      "---------------------------\n",
      "NASA Seeking Partner in Contest to Name Next Mars Rover\n",
      "NASA has a class assignment for corporations, nonprofits and educational organizations involved in science and space exploration: partner with the agency to inspire future engineers and scientists by sponsoring a contest to name the next rover to venture to the Red Planet.\n",
      "---------------------------\n"
     ]
    }
   ],
   "source": [
    "nasa_titles=[]\n",
    "nasa_description=[]\n",
    "for item in results:\n",
    "    title=item.a.text\n",
    "    desc=item.find(class_='article_teaser_body').text\n",
    "    nasa_titles.append(title)\n",
    "    nasa_description.append(desc)\n",
    "    print(title)\n",
    "    print(desc)\n",
    "    print('---------------------------')\n",
    "    "
   ]
  },
  {
   "cell_type": "markdown",
   "metadata": {},
   "source": [
    "### Getting Featured Image"
   ]
  },
  {
   "cell_type": "code",
   "execution_count": 8,
   "metadata": {},
   "outputs": [],
   "source": [
    "featured_image_url='https://www.jpl.nasa.gov/spaceimages/?search=&category=Mars'"
   ]
  },
  {
   "cell_type": "code",
   "execution_count": 9,
   "metadata": {},
   "outputs": [],
   "source": [
    "executable_path = {'executable_path': 'chromedriver.exe'}\n",
    "browser = Browser('chrome', **executable_path, headless=False)"
   ]
  },
  {
   "cell_type": "code",
   "execution_count": 10,
   "metadata": {},
   "outputs": [],
   "source": [
    "browser.visit(featured_image_url)"
   ]
  },
  {
   "cell_type": "code",
   "execution_count": 11,
   "metadata": {},
   "outputs": [],
   "source": [
    "html_featured=browser.html\n",
    "soup_featured= BeautifulSoup(html_featured, 'html.parser')"
   ]
  },
  {
   "cell_type": "code",
   "execution_count": 12,
   "metadata": {},
   "outputs": [],
   "source": [
    "results_featured=soup_featured.find_all('div', class_='carousel_items')\n"
   ]
  },
  {
   "cell_type": "code",
   "execution_count": 14,
   "metadata": {},
   "outputs": [],
   "source": [
    "for featured in results_featured:\n",
    "    partial_url=featured.article['style'].strip()\n",
    "    par_url=partial_url.split(\"'\")\n"
   ]
  },
  {
   "cell_type": "code",
   "execution_count": 15,
   "metadata": {},
   "outputs": [
    {
     "data": {
      "text/plain": [
       "'https://www.jpl.nasa.gov/spaceimages/images/wallpaper/PIA19673-1920x1200.jpg'"
      ]
     },
     "execution_count": 15,
     "metadata": {},
     "output_type": "execute_result"
    }
   ],
   "source": [
    "featured_full_url=f'https://www.jpl.nasa.gov{par_url[1]}'\n",
    "featured_full_url"
   ]
  },
  {
   "cell_type": "markdown",
   "metadata": {},
   "source": [
    "### Getting the latest temp"
   ]
  },
  {
   "cell_type": "code",
   "execution_count": 16,
   "metadata": {},
   "outputs": [],
   "source": [
    "mars_twitter='https://twitter.com/marswxreport?lang=en'"
   ]
  },
  {
   "cell_type": "code",
   "execution_count": 17,
   "metadata": {},
   "outputs": [],
   "source": [
    "executable_path = {'executable_path': 'chromedriver.exe'}\n",
    "browser = Browser('chrome', **executable_path, headless=False)"
   ]
  },
  {
   "cell_type": "code",
   "execution_count": 18,
   "metadata": {},
   "outputs": [],
   "source": [
    "browser.visit(mars_twitter)"
   ]
  },
  {
   "cell_type": "code",
   "execution_count": 19,
   "metadata": {},
   "outputs": [],
   "source": [
    "html2 = browser.html\n",
    "soup2 = BeautifulSoup(html2, 'html.parser')"
   ]
  },
  {
   "cell_type": "code",
   "execution_count": 20,
   "metadata": {},
   "outputs": [],
   "source": [
    "tweets=soup2.find_all('p', class_='TweetTextSize')\n"
   ]
  },
  {
   "cell_type": "code",
   "execution_count": 21,
   "metadata": {},
   "outputs": [
    {
     "name": "stdout",
     "output_type": "stream",
     "text": [
      "Sol 2312 (2019-02-06), high -13C/8F, low -72C/-97F, pressure at 8.13 hPa, daylight 06:47-18:53\n"
     ]
    }
   ],
   "source": [
    "for tweet in tweets:\n",
    "    mars_weather=tweet.text.strip()\n",
    "    if \"pressure\" not in mars_weather:\n",
    "        continue\n",
    "    else:\n",
    "        if \"pic.twitter\" in mars_weather:\n",
    "            weather=mars_weather.split('pic')\n",
    "            weather_mars=weather[0]\n",
    "            print(weather_mars)\n",
    "            break\n"
   ]
  },
  {
   "cell_type": "markdown",
   "metadata": {},
   "source": [
    "### Mars facts"
   ]
  },
  {
   "cell_type": "code",
   "execution_count": 22,
   "metadata": {},
   "outputs": [],
   "source": [
    "facts_url='https://space-facts.com/mars/'"
   ]
  },
  {
   "cell_type": "code",
   "execution_count": 23,
   "metadata": {},
   "outputs": [],
   "source": [
    "tables = pd.read_html(facts_url)"
   ]
  },
  {
   "cell_type": "code",
   "execution_count": 24,
   "metadata": {},
   "outputs": [],
   "source": [
    "df_facts=tables[0]"
   ]
  },
  {
   "cell_type": "code",
   "execution_count": 25,
   "metadata": {},
   "outputs": [
    {
     "data": {
      "text/html": [
       "<div>\n",
       "<style scoped>\n",
       "    .dataframe tbody tr th:only-of-type {\n",
       "        vertical-align: middle;\n",
       "    }\n",
       "\n",
       "    .dataframe tbody tr th {\n",
       "        vertical-align: top;\n",
       "    }\n",
       "\n",
       "    .dataframe thead th {\n",
       "        text-align: right;\n",
       "    }\n",
       "</style>\n",
       "<table border=\"1\" class=\"dataframe\">\n",
       "  <thead>\n",
       "    <tr style=\"text-align: right;\">\n",
       "      <th></th>\n",
       "      <th>Paramter</th>\n",
       "      <th>Value</th>\n",
       "    </tr>\n",
       "  </thead>\n",
       "  <tbody>\n",
       "    <tr>\n",
       "      <th>0</th>\n",
       "      <td>Equatorial Diameter:</td>\n",
       "      <td>6,792 km</td>\n",
       "    </tr>\n",
       "    <tr>\n",
       "      <th>1</th>\n",
       "      <td>Polar Diameter:</td>\n",
       "      <td>6,752 km</td>\n",
       "    </tr>\n",
       "    <tr>\n",
       "      <th>2</th>\n",
       "      <td>Mass:</td>\n",
       "      <td>6.42 x 10^23 kg (10.7% Earth)</td>\n",
       "    </tr>\n",
       "    <tr>\n",
       "      <th>3</th>\n",
       "      <td>Moons:</td>\n",
       "      <td>2 (Phobos &amp; Deimos)</td>\n",
       "    </tr>\n",
       "    <tr>\n",
       "      <th>4</th>\n",
       "      <td>Orbit Distance:</td>\n",
       "      <td>227,943,824 km (1.52 AU)</td>\n",
       "    </tr>\n",
       "    <tr>\n",
       "      <th>5</th>\n",
       "      <td>Orbit Period:</td>\n",
       "      <td>687 days (1.9 years)</td>\n",
       "    </tr>\n",
       "    <tr>\n",
       "      <th>6</th>\n",
       "      <td>Surface Temperature:</td>\n",
       "      <td>-153 to 20 °C</td>\n",
       "    </tr>\n",
       "    <tr>\n",
       "      <th>7</th>\n",
       "      <td>First Record:</td>\n",
       "      <td>2nd millennium BC</td>\n",
       "    </tr>\n",
       "    <tr>\n",
       "      <th>8</th>\n",
       "      <td>Recorded By:</td>\n",
       "      <td>Egyptian astronomers</td>\n",
       "    </tr>\n",
       "  </tbody>\n",
       "</table>\n",
       "</div>"
      ],
      "text/plain": [
       "               Paramter                          Value\n",
       "0  Equatorial Diameter:                       6,792 km\n",
       "1       Polar Diameter:                       6,752 km\n",
       "2                 Mass:  6.42 x 10^23 kg (10.7% Earth)\n",
       "3                Moons:            2 (Phobos & Deimos)\n",
       "4       Orbit Distance:       227,943,824 km (1.52 AU)\n",
       "5         Orbit Period:           687 days (1.9 years)\n",
       "6  Surface Temperature:                  -153 to 20 °C\n",
       "7         First Record:              2nd millennium BC\n",
       "8          Recorded By:           Egyptian astronomers"
      ]
     },
     "execution_count": 25,
     "metadata": {},
     "output_type": "execute_result"
    }
   ],
   "source": [
    "df_facts.rename(columns={0:'Paramter', 1:'Value'}, inplace=True)\n",
    "df_facts"
   ]
  },
  {
   "cell_type": "code",
   "execution_count": 26,
   "metadata": {},
   "outputs": [],
   "source": [
    "html_table = df_facts.to_html(index=False)"
   ]
  },
  {
   "cell_type": "code",
   "execution_count": 27,
   "metadata": {},
   "outputs": [],
   "source": [
    "facts_table=html_table.replace('\\n', '').strip()"
   ]
  },
  {
   "cell_type": "code",
   "execution_count": 28,
   "metadata": {},
   "outputs": [
    {
     "name": "stdout",
     "output_type": "stream",
     "text": [
      "<table border=\"1\" class=\"dataframe\">  <thead>    <tr style=\"text-align: right;\">      <th>Paramter</th>      <th>Value</th>    </tr>  </thead>  <tbody>    <tr>      <td>Equatorial Diameter:</td>      <td>6,792 km</td>    </tr>    <tr>      <td>Polar Diameter:</td>      <td>6,752 km</td>    </tr>    <tr>      <td>Mass:</td>      <td>6.42 x 10^23 kg (10.7% Earth)</td>    </tr>    <tr>      <td>Moons:</td>      <td>2 (Phobos &amp; Deimos)</td>    </tr>    <tr>      <td>Orbit Distance:</td>      <td>227,943,824 km (1.52 AU)</td>    </tr>    <tr>      <td>Orbit Period:</td>      <td>687 days (1.9 years)</td>    </tr>    <tr>      <td>Surface Temperature:</td>      <td>-153 to 20 °C</td>    </tr>    <tr>      <td>First Record:</td>      <td>2nd millennium BC</td>    </tr>    <tr>      <td>Recorded By:</td>      <td>Egyptian astronomers</td>    </tr>  </tbody></table>\n"
     ]
    }
   ],
   "source": [
    "print(facts_table)"
   ]
  },
  {
   "cell_type": "markdown",
   "metadata": {},
   "source": [
    "### hemispheres"
   ]
  },
  {
   "cell_type": "code",
   "execution_count": 29,
   "metadata": {},
   "outputs": [],
   "source": [
    "hemispheres_url='https://astrogeology.usgs.gov/search/results?q=hemisphere+enhanced&k1=target&v1=Mars'"
   ]
  },
  {
   "cell_type": "code",
   "execution_count": 30,
   "metadata": {},
   "outputs": [],
   "source": [
    "executable_path = {'executable_path': 'chromedriver.exe'}\n",
    "browser = Browser('chrome', **executable_path, headless=False)"
   ]
  },
  {
   "cell_type": "code",
   "execution_count": 31,
   "metadata": {},
   "outputs": [],
   "source": [
    "browser.visit(hemispheres_url)"
   ]
  },
  {
   "cell_type": "code",
   "execution_count": 32,
   "metadata": {},
   "outputs": [],
   "source": [
    "html3 = browser.html\n",
    "soup3 = BeautifulSoup(html3, 'html.parser')"
   ]
  },
  {
   "cell_type": "code",
   "execution_count": 33,
   "metadata": {},
   "outputs": [],
   "source": [
    "hemispheres_results=soup3.find_all('div', class_='item')"
   ]
  },
  {
   "cell_type": "code",
   "execution_count": 34,
   "metadata": {},
   "outputs": [],
   "source": [
    "hemi_base_url='https://astrogeology.usgs.gov'\n",
    "hemi_links_full=[]\n",
    "for hemi in hemispheres_results:\n",
    "    hemi_link=hemi.a['href']\n",
    "    hemi_url=f'{hemi_base_url}{hemi_link}'\n",
    "    hemi_links_full.append(hemi_url)"
   ]
  },
  {
   "cell_type": "code",
   "execution_count": 35,
   "metadata": {},
   "outputs": [],
   "source": [
    "hemispheres=[]\n",
    "hemi_dict={}\n",
    "for links in hemi_links_full:\n",
    "    browser.visit(links)\n",
    "    html4=browser.html\n",
    "    soup4 = BeautifulSoup(html4, 'html.parser')\n",
    "    hemi_pic_results=soup4.find_all('div', class_='downloads')\n",
    "    hemi_title_results=soup4.find_all('section', class_='block metadata')\n",
    "        \n",
    "    for hemi_title in hemi_title_results:\n",
    "        hemi_dict['title']=hemi_title.h2.text.strip()\n",
    "        \n",
    "    for hemi_pic in hemi_pic_results:\n",
    "        hemi_dict['img_urls']=hemi_pic.ul.li.a['href']\n",
    "        \n",
    "        hemispheres.append(hemi_dict.copy())\n",
    "        \n",
    "\n",
    "        \n",
    "        "
   ]
  },
  {
   "cell_type": "code",
   "execution_count": 36,
   "metadata": {},
   "outputs": [
    {
     "data": {
      "text/plain": [
       "[{'title': 'Cerberus Hemisphere Enhanced',\n",
       "  'img_urls': 'http://astropedia.astrogeology.usgs.gov/download/Mars/Viking/cerberus_enhanced.tif/full.jpg'},\n",
       " {'title': 'Schiaparelli Hemisphere Enhanced',\n",
       "  'img_urls': 'http://astropedia.astrogeology.usgs.gov/download/Mars/Viking/schiaparelli_enhanced.tif/full.jpg'},\n",
       " {'title': 'Syrtis Major Hemisphere Enhanced',\n",
       "  'img_urls': 'http://astropedia.astrogeology.usgs.gov/download/Mars/Viking/syrtis_major_enhanced.tif/full.jpg'},\n",
       " {'title': 'Valles Marineris Hemisphere Enhanced',\n",
       "  'img_urls': 'http://astropedia.astrogeology.usgs.gov/download/Mars/Viking/valles_marineris_enhanced.tif/full.jpg'}]"
      ]
     },
     "execution_count": 36,
     "metadata": {},
     "output_type": "execute_result"
    }
   ],
   "source": [
    "hemispheres"
   ]
  },
  {
   "cell_type": "code",
   "execution_count": null,
   "metadata": {},
   "outputs": [],
   "source": []
  }
 ],
 "metadata": {
  "kernelspec": {
   "display_name": "Python 3",
   "language": "python",
   "name": "python3"
  },
  "language_info": {
   "codemirror_mode": {
    "name": "ipython",
    "version": 3
   },
   "file_extension": ".py",
   "mimetype": "text/x-python",
   "name": "python",
   "nbconvert_exporter": "python",
   "pygments_lexer": "ipython3",
   "version": "3.7.0"
  }
 },
 "nbformat": 4,
 "nbformat_minor": 2
}
